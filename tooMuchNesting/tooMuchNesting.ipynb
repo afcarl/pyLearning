{
 "cells": [
  {
   "cell_type": "code",
   "execution_count": 1,
   "metadata": {},
   "outputs": [],
   "source": [
    "# from Bio import Entrez\n",
    "# from bs4 import BeautifulSoup \n",
    "import pandas as pd\n",
    "import numpy as np\n",
    "from pandas import DataFrame\n",
    "# import plotly as py\n",
    "# import itertools\n",
    "# import csv \n",
    "# import urllib\n",
    "# import codecs\n",
    "# import io\n",
    "# import sys\n",
    "# import encodings\n",
    "# # import chardet\n",
    "# import unicodedata\n",
    "# import time\n",
    "# import os\n",
    "# import math\n",
    "# from itertools import chain\n",
    "# import pyodbc\n",
    "# # import plotly.plotly as py\n",
    "# # import plotly.tools as plotly_tools\n",
    "# # from plotly.graph_objs import *\n",
    "# # import plotly.figure_factory as ff\n",
    "# from IPython.display import HTML\n",
    "# from datetime import date\n",
    "# import datetime\n",
    "# import sqlalchemy\n",
    "# from sqlalchemy import text\n",
    "# from sqlalchemy import bindparam\n",
    "# # from datetime import datetime as dt\n",
    "import datetime\n",
    "from datetime import date\n",
    "import types\n",
    "import lxml.html"
   ]
  },
  {
   "cell_type": "code",
   "execution_count": 2,
   "metadata": {},
   "outputs": [],
   "source": [
    "doc =  open('myxmlfile.xml').read()"
   ]
  },
  {
   "cell_type": "code",
   "execution_count": 3,
   "metadata": {},
   "outputs": [],
   "source": [
    "xml = lxml.html.fromstring(doc)"
   ]
  },
  {
   "cell_type": "code",
   "execution_count": 4,
   "metadata": {},
   "outputs": [
    {
     "data": {
      "text/plain": [
       "<Element pubmedarticleset at 0x108aad958>"
      ]
     },
     "execution_count": 4,
     "metadata": {},
     "output_type": "execute_result"
    }
   ],
   "source": [
    "xml"
   ]
  },
  {
   "cell_type": "code",
   "execution_count": 14,
   "metadata": {},
   "outputs": [],
   "source": [
    "article = xml.xpath(\"//pubmedarticle\")[0]"
   ]
  },
  {
   "cell_type": "code",
   "execution_count": 19,
   "metadata": {},
   "outputs": [],
   "source": [
    "meshList = [elem.tag for elem in article.xpath('//meshheadinglist/*')]"
   ]
  },
  {
   "cell_type": "code",
   "execution_count": 58,
   "metadata": {},
   "outputs": [
    {
     "data": {
      "text/plain": [
       "['meshheading',\n",
       " 'meshheading',\n",
       " 'meshheading',\n",
       " 'meshheading',\n",
       " 'meshheading',\n",
       " 'meshheading',\n",
       " 'meshheading',\n",
       " 'meshheading',\n",
       " 'meshheading',\n",
       " 'meshheading',\n",
       " 'meshheading',\n",
       " 'meshheading',\n",
       " 'meshheading',\n",
       " 'meshheading',\n",
       " 'meshheading',\n",
       " 'meshheading',\n",
       " 'meshheading']"
      ]
     },
     "execution_count": 58,
     "metadata": {},
     "output_type": "execute_result"
    }
   ],
   "source": [
    "meshList"
   ]
  },
  {
   "cell_type": "code",
   "execution_count": 68,
   "metadata": {},
   "outputs": [],
   "source": [
    "msList = []\n",
    "for k,mt in enumerate(meshList):\n",
    "    newDict = {}    \n",
    "    newDict[k] =  mt\n",
    "    msList.append(newDict)\n",
    "    mPath = '//meshheadinglist/' + m[1]\n",
    "    msQList = article.xpath(mPath)\n",
    "    "
   ]
  },
  {
   "cell_type": "code",
   "execution_count": 111,
   "metadata": {},
   "outputs": [],
   "source": [
    "newerList = []\n",
    "newList = [elem.iterchildren() for elem in msQList]\n",
    "for n,nt in enumerate(newList):\n",
    "#     a = [elem.tag for elem in nt]\n",
    "    b = [elem for elem in nt]\n",
    "    newerDict = {}\n",
    "#     newerDict[n] = a\n",
    "    newerDict[n] = b\n",
    "#     print(newerDict)\n",
    "    newerList.append(newerDict)"
   ]
  },
  {
   "cell_type": "code",
   "execution_count": 119,
   "metadata": {},
   "outputs": [
    {
     "name": "stdout",
     "output_type": "stream",
     "text": [
      "[<Element descriptorname at 0x108b4e458>]\n"
     ]
    },
    {
     "data": {
      "text/plain": [
       "'Young Adult'"
      ]
     },
     "execution_count": 119,
     "metadata": {},
     "output_type": "execute_result"
    }
   ],
   "source": [
    "print(b)\n",
    "b[0].text_content()"
   ]
  },
  {
   "cell_type": "code",
   "execution_count": 82,
   "metadata": {},
   "outputs": [
    {
     "data": {
      "text/plain": [
       "[<Element descriptorname at 0x108b60228>]"
      ]
     },
     "execution_count": 82,
     "metadata": {},
     "output_type": "execute_result"
    }
   ],
   "source": [
    "[elem for elem in newList[0]]"
   ]
  },
  {
   "cell_type": "code",
   "execution_count": 56,
   "metadata": {},
   "outputs": [],
   "source": [
    "\n",
    "    mDict = {}\n",
    "    mDict[]\n",
    "    mPath = '//meshheadinglist/' + m[1]\n",
    "    msList = article.xpath(mPath)\n",
    "#     print(m[0],m[1])\n",
    "    msDict = {}\n",
    "    dictInd = str(m[0])\n",
    "#     print(type(dictInd))\n",
    "    msDict[dictInd] = m[1]\n",
    "    msList.append(msDict)\n",
    "    \n",
    "#     for ms in msList.iterchildren():\n",
    "#         print(ms)\n",
    "    "
   ]
  },
  {
   "cell_type": "code",
   "execution_count": 57,
   "metadata": {},
   "outputs": [
    {
     "data": {
      "text/plain": [
       "[<Element meshheading at 0x108b0adb8>,\n",
       " <Element meshheading at 0x108b48458>,\n",
       " <Element meshheading at 0x108b48688>,\n",
       " <Element meshheading at 0x108b48728>,\n",
       " <Element meshheading at 0x108b48a98>,\n",
       " <Element meshheading at 0x108b48e08>,\n",
       " <Element meshheading at 0x108b48f48>,\n",
       " <Element meshheading at 0x108b48f98>,\n",
       " <Element meshheading at 0x108b484a8>,\n",
       " <Element meshheading at 0x108b48c78>,\n",
       " <Element meshheading at 0x108b48d18>,\n",
       " <Element meshheading at 0x108b48778>,\n",
       " <Element meshheading at 0x108b48818>,\n",
       " <Element meshheading at 0x108b48868>,\n",
       " <Element meshheading at 0x108b485e8>,\n",
       " <Element meshheading at 0x108b48598>,\n",
       " <Element meshheading at 0x108b48638>,\n",
       " {'16': 'meshheading'}]"
      ]
     },
     "execution_count": 57,
     "metadata": {},
     "output_type": "execute_result"
    }
   ],
   "source": [
    "msList"
   ]
  },
  {
   "cell_type": "code",
   "execution_count": 33,
   "metadata": {},
   "outputs": [],
   "source": [
    "a = msList[0].iterchildren()"
   ]
  },
  {
   "cell_type": "code",
   "execution_count": 34,
   "metadata": {},
   "outputs": [
    {
     "data": {
      "text/plain": [
       "['descriptorname']"
      ]
     },
     "execution_count": 34,
     "metadata": {},
     "output_type": "execute_result"
    }
   ],
   "source": [
    "[elem.tag for elem in a]"
   ]
  },
  {
   "cell_type": "code",
   "execution_count": 9,
   "metadata": {
    "collapsed": true
   },
   "outputs": [],
   "source": [
    "##Journal Data -- from article section -- ERIC HELP ME REWRITE THIS -- too much nesting\n",
    "article = xml.xpath(\"//pubmedarticle\")[0]\n",
    "articleDictList = []\n",
    "journalParentTags = [elem.tag for elem in article.xpath('//article/journal/*')]\n",
    "journalDict = dict.fromkeys(journalParentTags,None)\n",
    "for jTag in journalParentTags:\n",
    "    jPath = '//article/journal/'+jTag \n",
    "    newTagList = [elem.tag for elem in article.xpath(jPath + '/*')]\n",
    "    if not newTagList:\n",
    "        journalDict[jTag] = [elem.text_content() for elem in article.xpath(jPath)][0]\n",
    "    if newTagList:\n",
    "        nDict = dict.fromkeys(newTagList,None)\n",
    "        journalDict[jTag] = nDict\n",
    "        for nt in newTagList:\n",
    "            nPath = '//article/journal/'+jTag + '/' + nt\n",
    "            ntVal = [elem for elem in article.xpath(nPath)]\n",
    "            #check if there is further nesting\n",
    "            nestPath = nPath + \"/*\"\n",
    "            if len(article.xpath(nestPath)) <= 1:\n",
    "                nDict[nt] = article.xpath(nPath)[0].text_content()\n",
    "            if len(article.xpath(nestPath)) > 1:\n",
    "                vals = [elem.text_content() for elem in article.xpath(nestPath)]\n",
    "                valTags = [elem.tag for elem in article.xpath(nestPath)]\n",
    "                nDict[nt] = dict.fromkeys(valTags,vals)"
   ]
  },
  {
   "cell_type": "code",
   "execution_count": 11,
   "metadata": {},
   "outputs": [
    {
     "data": {
      "text/plain": [
       "{'isoabbreviation': 'MMWR Morb. Mortal. Wkly. Rep.',\n",
       " 'issn': '1545-861X',\n",
       " 'journalissue': {'issue': '43',\n",
       "  'pubdate': {'day': ['2017', 'Nov', '03'],\n",
       "   'month': ['2017', 'Nov', '03'],\n",
       "   'year': ['2017', 'Nov', '03']},\n",
       "  'volume': '66'},\n",
       " 'title': 'MMWR. Morbidity and mortality weekly report'}"
      ]
     },
     "execution_count": 11,
     "metadata": {},
     "output_type": "execute_result"
    }
   ],
   "source": [
    "journalDict"
   ]
  },
  {
   "cell_type": "code",
   "execution_count": 12,
   "metadata": {},
   "outputs": [
    {
     "data": {
      "text/plain": [
       "'<pubmedarticleset> <pubmedarticle>     <medlinecitation status=\"MEDLINE\" owner=\"NLM\">         <pmid version=\"1\">29095808</pmid>         <datecreated>             <year>2017</year>             <month>11</month>             <day>02</day>         </datecreated>         <datecompleted>             <year>2017</year>             <month>11</month>             <day>08</day>         </datecompleted>         <daterevised>             <year>2017</year>             <month>11</month>             <day>08</day>         </daterevised>         <article pubmodel=\"Electronic\">             <journal>                 <issn issntype=\"Electronic\">1545-861X</issn>                 <journalissue citedmedium=\"Internet\">                     <volume>66</volume>                     <issue>43</issue>                     <pubdate>                         <year>2017</year>                         <month>Nov</month>                         <day>03</day>                     </pubdate>                 </journalissue>                 <title>MMWR. Morbidity and mortality weekly report</title>                 <isoabbreviation>MMWR Morb. Mortal. Wkly. Rep.</isoabbreviation>             </journal>             <articletitle>Harmful Algal Bloom-Associated Illnesses in Humans and Dogs Identified Through a Pilot Surveillance System - New York, 2015.</articletitle>             <pagination>                 <medlinepgn>1182-1184</medlinepgn>             </pagination>             <elocationid eidtype=\"doi\" validyn=\"Y\">10.15585/mmwr.mm6643a5</elocationid>             <abstract>                 <abstracttext>Cyanobacteria, also known as blue-green algae, are photosynthetic, aquatic organisms found in fresh, brackish, and marine water around the world (1). Rapid proliferation and accumulation of potentially toxin-producing cyanobacteria characterize one type of harmful algal bloom (HAB). HABs have the potential to cause illness in humans and animals (2,3); however, the epidemiology of these illnesses has not been well characterized. Statewide in 2015, a total of 139 HABs were identified in New York, 97 (70%) of which were confirmed through laboratory analysis; 77 independent beach closures were ordered at 37 beaches on 20 different bodies of water. To better characterize HAB-associated illnesses, during June-September 2015, the New York State Department of Health (NYSDOH) implemented a pilot surveillance system in 16 New York counties. Activities included the collection of data from environmental HAB reports, illness reports, poison control centers, and syndromic surveillance, and increased outreach to the public, health care providers, and veterinarians. During June-September, 51 HAB-associated illnesses were reported, including 35 that met the CDC case definitions*; 32 of the cases occurred in humans and three in dogs. In previous years, New York never had more than 10 HAB-associated illnesses reported statewide. The pilot surveillance results from 16 counties during a 4-month period suggest that HAB-associated illnesses might be more common than previously reported.</abstracttext>             </abstract>             <authorlist completeyn=\"Y\">                 <author validyn=\"Y\">                     <lastname>Figgatt</lastname>                     <forename>Mary</forename>                     <initials>M</initials>                 </author>                 <author validyn=\"Y\">                     <lastname>Hyde</lastname>                     <forename>James</forename>                     <initials>J</initials>                 </author>                 <author validyn=\"Y\">                     <lastname>Dziewulski</lastname>                     <forename>David</forename>                     <initials>D</initials>                 </author>                 <author validyn=\"Y\">                     <lastname>Wiegert</lastname>                     <forename>Eric</forename>                     <initials>E</initials>                 </author>                 <author validyn=\"Y\">                     <lastname>Kishbaugh</lastname>                     <forename>Scott</forename>                     <initials>S</initials>                 </author>                 <author validyn=\"Y\">                     <lastname>Zelin</lastname>                     <forename>Grant</forename>                     <initials>G</initials>                 </author>                 <author validyn=\"Y\">                     <lastname>Wilson</lastname>                     <forename>Lloyd</forename>                     <initials>L</initials>                 </author>             </authorlist>             <language>eng</language>             <publicationtypelist>                 <publicationtype ui=\"D016428\">Journal Article</publicationtype>             </publicationtypelist>             <articledate datetype=\"Electronic\">                 <year>2017</year>                 <month>11</month>                 <day>03</day>             </articledate>         </article>         <medlinejournalinfo>             <country>United States</country>             <medlineta>MMWR Morb Mortal Wkly Rep</medlineta>             <nlmuniqueid>7802429</nlmuniqueid>             <issnlinking>0149-2195</issnlinking>         </medlinejournalinfo>         <citationsubset>IM</citationsubset>         <meshheadinglist>             <meshheading>                 <descriptorname ui=\"D000293\" majortopicyn=\"N\">Adolescent</descriptorname>             </meshheading>             <meshheading>                 <descriptorname ui=\"D000328\" majortopicyn=\"N\">Adult</descriptorname>             </meshheading>             <meshheading>                 <descriptorname ui=\"D000818\" majortopicyn=\"N\">Animals</descriptorname>             </meshheading>             <meshheading>                 <descriptorname ui=\"D002648\" majortopicyn=\"N\">Child</descriptorname>             </meshheading>             <meshheading>                 <descriptorname ui=\"D002675\" majortopicyn=\"N\">Child, Preschool</descriptorname>             </meshheading>             <meshheading>                 <descriptorname ui=\"D004194\" majortopicyn=\"N\">Disease</descriptorname>                 <qualifiername ui=\"Q000209\" majortopicyn=\"Y\">etiology</qualifiername>             </meshheading>             <meshheading>                 <descriptorname ui=\"D004283\" majortopicyn=\"N\">Dog Diseases</descriptorname>                 <qualifiername ui=\"Q000453\" majortopicyn=\"N\">epidemiology</qualifiername>                 <qualifiername ui=\"Q000209\" majortopicyn=\"Y\">etiology</qualifiername>             </meshheading>             <meshheading>                 <descriptorname ui=\"D004285\" majortopicyn=\"N\">Dogs</descriptorname>             </meshheading>             <meshheading>                 <descriptorname ui=\"D005260\" majortopicyn=\"N\">Female</descriptorname>             </meshheading>             <meshheading>                 <descriptorname ui=\"D057097\" majortopicyn=\"Y\">Harmful Algal Bloom</descriptorname>             </meshheading>             <meshheading>                 <descriptorname ui=\"D006801\" majortopicyn=\"N\">Humans</descriptorname>             </meshheading>             <meshheading>                 <descriptorname ui=\"D008297\" majortopicyn=\"N\">Male</descriptorname>             </meshheading>             <meshheading>                 <descriptorname ui=\"D008875\" majortopicyn=\"N\">Middle Aged</descriptorname>             </meshheading>             <meshheading>                 <descriptorname ui=\"D009518\" majortopicyn=\"N\">New York</descriptorname>                 <qualifiername ui=\"Q000453\" majortopicyn=\"N\">epidemiology</qualifiername>             </meshheading>             <meshheading>                 <descriptorname ui=\"D010865\" majortopicyn=\"N\">Pilot Projects</descriptorname>             </meshheading>             <meshheading>                 <descriptorname ui=\"D011159\" majortopicyn=\"Y\">Population Surveillance</descriptorname>             </meshheading>             <meshheading>                 <descriptorname ui=\"D055815\" majortopicyn=\"N\">Young Adult</descriptorname>             </meshheading>         </meshheadinglist>     </medlinecitation>     <pubmeddata>         <history>             <pubmedpubdate pubstatus=\"entrez\">                 <year>2017</year>                 <month>11</month>                 <day>3</day>                 <hour>6</hour>                 <minute>0</minute>             </pubmedpubdate>             <pubmedpubdate pubstatus=\"pubmed\">                 <year>2017</year>                 <month>11</month>                 <day>3</day>                 <hour>6</hour>                 <minute>0</minute>             </pubmedpubdate>             <pubmedpubdate pubstatus=\"medline\">                 <year>2017</year>                 <month>11</month>                 <day>9</day>                 <hour>6</hour>                 <minute>0</minute>             </pubmedpubdate>         </history>         <publicationstatus>epublish</publicationstatus>         <articleidlist>             <articleid idtype=\"pubmed\">29095808</articleid>             <articleid idtype=\"doi\">10.15585/mmwr.mm6643a5</articleid>         </articleidlist>     </pubmeddata> </pubmedarticle>  </pubmedarticleset>'"
      ]
     },
     "execution_count": 12,
     "metadata": {},
     "output_type": "execute_result"
    }
   ],
   "source": [
    "doc"
   ]
  },
  {
   "cell_type": "code",
   "execution_count": null,
   "metadata": {
    "collapsed": true
   },
   "outputs": [],
   "source": []
  }
 ],
 "metadata": {
  "kernelspec": {
   "display_name": "Python 3",
   "language": "python",
   "name": "python3"
  },
  "language_info": {
   "codemirror_mode": {
    "name": "ipython",
    "version": 3
   },
   "file_extension": ".py",
   "mimetype": "text/x-python",
   "name": "python",
   "nbconvert_exporter": "python",
   "pygments_lexer": "ipython3",
   "version": "3.6.3"
  }
 },
 "nbformat": 4,
 "nbformat_minor": 2
}
