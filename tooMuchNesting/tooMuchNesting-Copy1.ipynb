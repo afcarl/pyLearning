{
 "cells": [
  {
   "cell_type": "code",
   "execution_count": 1,
   "metadata": {},
   "outputs": [],
   "source": [
    "import pandas as pd\n",
    "import numpy as np\n",
    "from pandas import DataFrame\n",
    "import types\n",
    "import lxml.html"
   ]
  },
  {
   "cell_type": "code",
   "execution_count": 2,
   "metadata": {},
   "outputs": [],
   "source": [
    "doc =  open('myxmlfile.xml').read()"
   ]
  },
  {
   "cell_type": "code",
   "execution_count": 3,
   "metadata": {},
   "outputs": [],
   "source": [
    "xml = lxml.html.fromstring(doc)"
   ]
  },
  {
   "cell_type": "code",
   "execution_count": 4,
   "metadata": {},
   "outputs": [],
   "source": [
    "article = xml.xpath(\"//pubmedarticle\")[0]"
   ]
  },
  {
   "cell_type": "code",
   "execution_count": 115,
   "metadata": {},
   "outputs": [],
   "source": [
    "mesh_list = [elem.tag for elem in article.xpath('//meshheadinglist/*')]"
   ]
  },
  {
   "cell_type": "code",
   "execution_count": 117,
   "metadata": {},
   "outputs": [],
   "source": [
    "msList = []\n",
    "for m in range(len(mesh_list)):\n",
    "    newDict = {}    \n",
    "    newDict[m] =  \"meshheading\"\n",
    "    msList.append(newDict)\n",
    "    msQList = article.xpath('//meshheadinglist/meshheading')  "
   ]
  },
  {
   "cell_type": "code",
   "execution_count": 155,
   "metadata": {},
   "outputs": [],
   "source": [
    "newerList = []\n",
    "newList = [elem.iterchildren() for elem in msQList]\n",
    "for n,nt in enumerate(newList):\n",
    "    b = [elem for elem in nt]   \n",
    "    newDict = {}\n",
    "    newDict[n] = b\n",
    "    newerList.append(newDict)"
   ]
  },
  {
   "cell_type": "code",
   "execution_count": 156,
   "metadata": {},
   "outputs": [
    {
     "data": {
      "text/plain": [
       "[{0: [<Element descriptorname at 0x108b51688>]},\n",
       " {1: [<Element descriptorname at 0x108b514a8>]},\n",
       " {2: [<Element descriptorname at 0x108b51958>]},\n",
       " {3: [<Element descriptorname at 0x108b51a48>]},\n",
       " {4: [<Element descriptorname at 0x108b51a98>]},\n",
       " {5: [<Element descriptorname at 0x108b51ae8>,\n",
       "   <Element qualifiername at 0x108b51ea8>]},\n",
       " {6: [<Element descriptorname at 0x108b51b38>,\n",
       "   <Element qualifiername at 0x108b51ef8>,\n",
       "   <Element qualifiername at 0x108b51f48>]},\n",
       " {7: [<Element descriptorname at 0x108b51b88>]},\n",
       " {8: [<Element descriptorname at 0x108b51bd8>]},\n",
       " {9: [<Element descriptorname at 0x108b51c28>]},\n",
       " {10: [<Element descriptorname at 0x108b51c78>]},\n",
       " {11: [<Element descriptorname at 0x108b51cc8>]},\n",
       " {12: [<Element descriptorname at 0x108b51d18>]},\n",
       " {13: [<Element descriptorname at 0x108b51d68>,\n",
       "   <Element qualifiername at 0x108b51f98>]},\n",
       " {14: [<Element descriptorname at 0x108b51db8>]},\n",
       " {15: [<Element descriptorname at 0x108b51e08>]},\n",
       " {16: [<Element descriptorname at 0x108b51e58>]}]"
      ]
     },
     "execution_count": 156,
     "metadata": {},
     "output_type": "execute_result"
    }
   ],
   "source": [
    "newerList"
   ]
  },
  {
   "cell_type": "code",
   "execution_count": 85,
   "metadata": {},
   "outputs": [],
   "source": [
    "newerList = []\n",
    "newList = [elem.iterchildren() for elem in msQList]\n",
    "for n,nt in enumerate(newList):\n",
    "    b = [elem for elem in nt]    \n",
    "    tupSeq = [n,b] \n",
    "    newTuple = tuple(tupSeq)\n",
    "    newerList.append(newTuple)\n",
    "#     newerDict[n] = b\n",
    "#     newerList.append(newerDict)"
   ]
  },
  {
   "cell_type": "code",
   "execution_count": 86,
   "metadata": {},
   "outputs": [
    {
     "data": {
      "text/plain": [
       "[(0, [<Element descriptorname at 0x108b51688>]),\n",
       " (1, [<Element descriptorname at 0x108b514a8>]),\n",
       " (2, [<Element descriptorname at 0x108b51958>]),\n",
       " (3, [<Element descriptorname at 0x108b51a48>]),\n",
       " (4, [<Element descriptorname at 0x108b51a98>]),\n",
       " (5,\n",
       "  [<Element descriptorname at 0x108b51ae8>,\n",
       "   <Element qualifiername at 0x108b51ea8>]),\n",
       " (6,\n",
       "  [<Element descriptorname at 0x108b51b38>,\n",
       "   <Element qualifiername at 0x108b51ef8>,\n",
       "   <Element qualifiername at 0x108b51f48>]),\n",
       " (7, [<Element descriptorname at 0x108b51b88>]),\n",
       " (8, [<Element descriptorname at 0x108b51bd8>]),\n",
       " (9, [<Element descriptorname at 0x108b51c28>]),\n",
       " (10, [<Element descriptorname at 0x108b51c78>]),\n",
       " (11, [<Element descriptorname at 0x108b51cc8>]),\n",
       " (12, [<Element descriptorname at 0x108b51d18>]),\n",
       " (13,\n",
       "  [<Element descriptorname at 0x108b51d68>,\n",
       "   <Element qualifiername at 0x108b51f98>]),\n",
       " (14, [<Element descriptorname at 0x108b51db8>]),\n",
       " (15, [<Element descriptorname at 0x108b51e08>]),\n",
       " (16, [<Element descriptorname at 0x108b51e58>])]"
      ]
     },
     "execution_count": 86,
     "metadata": {},
     "output_type": "execute_result"
    }
   ],
   "source": [
    "newerList\n",
    "{6:{'descriptorname':['Dog Diseases'],'qualifiername':['epidemiology','etiology']}"
   ]
  },
  {
   "cell_type": "code",
   "execution_count": 108,
   "metadata": {},
   "outputs": [
    {
     "name": "stdout",
     "output_type": "stream",
     "text": [
      "descriptorname\n",
      "descriptorname\n",
      "descriptorname\n",
      "descriptorname\n",
      "descriptorname\n",
      "descriptorname\n",
      "qualifiername\n",
      "descriptorname\n",
      "qualifiername\n",
      "qualifiername\n",
      "descriptorname\n",
      "descriptorname\n",
      "descriptorname\n",
      "descriptorname\n",
      "descriptorname\n",
      "descriptorname\n",
      "descriptorname\n",
      "qualifiername\n",
      "descriptorname\n",
      "descriptorname\n",
      "descriptorname\n"
     ]
    }
   ],
   "source": [
    "for n in newerList:\n",
    "#     print(n)\n",
    "#     tags = n[1].tag()\n",
    "    for l in n[1]:   \n",
    "        print(l.tag)"
   ]
  },
  {
   "cell_type": "code",
   "execution_count": 95,
   "metadata": {},
   "outputs": [],
   "source": [
    "groups = []  \n",
    "uniquekeys = []  \n",
    "# data = sorted(data, key=keyfunc)\n",
    "data = sorted(newerList)\n",
    "data\n",
    "keyfunc = lambda beer: beer[0]\n",
    "# for k, g in groupby(data, keyfunc): \n",
    "#     # Store group iterator as a list \n",
    "#     groups.append(list(g))        \n",
    "#     uniquekeys.append(k)\n",
    "\n",
    "\n",
    "# beer_map = {\n",
    "#     key: [beer.brand for beer in group] \n",
    "#     for key, group in groupby(beers, lambda beer: beer.category)\n",
    "# }"
   ]
  },
  {
   "cell_type": "code",
   "execution_count": 75,
   "metadata": {},
   "outputs": [
    {
     "data": {
      "text/plain": [
       "[6]"
      ]
     },
     "execution_count": 75,
     "metadata": {},
     "output_type": "execute_result"
    }
   ],
   "source": [
    "sorted(newerList[6])"
   ]
  },
  {
   "cell_type": "code",
   "execution_count": 71,
   "metadata": {},
   "outputs": [
    {
     "name": "stdout",
     "output_type": "stream",
     "text": [
      "0 Adolescent descriptorname\n",
      "1 Adult descriptorname\n",
      "2 Animals descriptorname\n",
      "3 Child descriptorname\n",
      "4 Child, Preschool descriptorname\n",
      "5 Disease descriptorname\n",
      "5 etiology qualifiername\n",
      "6 Dog Diseases descriptorname\n",
      "6 epidemiology qualifiername\n",
      "6 etiology qualifiername\n",
      "7 Dogs descriptorname\n",
      "8 Female descriptorname\n",
      "9 Harmful Algal Bloom descriptorname\n",
      "10 Humans descriptorname\n",
      "11 Male descriptorname\n",
      "12 Middle Aged descriptorname\n",
      "13 New York descriptorname\n",
      "13 epidemiology qualifiername\n",
      "14 Pilot Projects descriptorname\n",
      "15 Population Surveillance descriptorname\n",
      "16 Young Adult descriptorname\n"
     ]
    }
   ],
   "source": [
    "for n in newerList:\n",
    "    for k,v in n.items():\n",
    "#         print(v)\n",
    "        for w in v:\n",
    "#             tagList = [v.tag for v in w]\n",
    "#             print(tagList)\n",
    "            print(k,w.text_content(),w.tag)\n",
    "            "
   ]
  },
  {
   "cell_type": "code",
   "execution_count": 69,
   "metadata": {},
   "outputs": [
    {
     "data": {
      "text/plain": [
       "[]"
      ]
     },
     "execution_count": 69,
     "metadata": {},
     "output_type": "execute_result"
    }
   ],
   "source": [
    "tagList"
   ]
  },
  {
   "cell_type": "code",
   "execution_count": null,
   "metadata": {},
   "outputs": [],
   "source": [
    "#what i want\n",
    "#{6:{descriptorname:['Dog Diseases'],qualifiername:['epidemiology','etiology']}"
   ]
  },
  {
   "cell_type": "code",
   "execution_count": 18,
   "metadata": {},
   "outputs": [
    {
     "data": {
      "text/plain": [
       "[{0: [<Element descriptorname at 0x108b51688>]},\n",
       " {1: [<Element descriptorname at 0x108b514a8>]},\n",
       " {2: [<Element descriptorname at 0x108b51958>]},\n",
       " {3: [<Element descriptorname at 0x108b51a48>]},\n",
       " {4: [<Element descriptorname at 0x108b51a98>]},\n",
       " {5: [<Element descriptorname at 0x108b51ae8>,\n",
       "   <Element qualifiername at 0x108b51ea8>]},\n",
       " {6: [<Element descriptorname at 0x108b51b38>,\n",
       "   <Element qualifiername at 0x108b51ef8>,\n",
       "   <Element qualifiername at 0x108b51f48>]},\n",
       " {7: [<Element descriptorname at 0x108b51b88>]},\n",
       " {8: [<Element descriptorname at 0x108b51bd8>]},\n",
       " {9: [<Element descriptorname at 0x108b51c28>]},\n",
       " {10: [<Element descriptorname at 0x108b51c78>]},\n",
       " {11: [<Element descriptorname at 0x108b51cc8>]},\n",
       " {12: [<Element descriptorname at 0x108b51d18>]},\n",
       " {13: [<Element descriptorname at 0x108b51d68>,\n",
       "   <Element qualifiername at 0x108b51f98>]},\n",
       " {14: [<Element descriptorname at 0x108b51db8>]},\n",
       " {15: [<Element descriptorname at 0x108b51e08>]},\n",
       " {16: [<Element descriptorname at 0x108b51e58>]}]"
      ]
     },
     "execution_count": 18,
     "metadata": {},
     "output_type": "execute_result"
    }
   ],
   "source": [
    "newerList"
   ]
  },
  {
   "cell_type": "code",
   "execution_count": 16,
   "metadata": {},
   "outputs": [
    {
     "name": "stdout",
     "output_type": "stream",
     "text": [
      "0 {0: [<Element descriptorname at 0x108b51688>]}\n",
      "1 {1: [<Element descriptorname at 0x108b514a8>]}\n",
      "2 {2: [<Element descriptorname at 0x108b51958>]}\n",
      "3 {3: [<Element descriptorname at 0x108b51a48>]}\n",
      "4 {4: [<Element descriptorname at 0x108b51a98>]}\n",
      "5 {5: [<Element descriptorname at 0x108b51ae8>, <Element qualifiername at 0x108b51ea8>]}\n",
      "6 {6: [<Element descriptorname at 0x108b51b38>, <Element qualifiername at 0x108b51ef8>, <Element qualifiername at 0x108b51f48>]}\n",
      "7 {7: [<Element descriptorname at 0x108b51b88>]}\n",
      "8 {8: [<Element descriptorname at 0x108b51bd8>]}\n",
      "9 {9: [<Element descriptorname at 0x108b51c28>]}\n",
      "10 {10: [<Element descriptorname at 0x108b51c78>]}\n",
      "11 {11: [<Element descriptorname at 0x108b51cc8>]}\n",
      "12 {12: [<Element descriptorname at 0x108b51d18>]}\n",
      "13 {13: [<Element descriptorname at 0x108b51d68>, <Element qualifiername at 0x108b51f98>]}\n",
      "14 {14: [<Element descriptorname at 0x108b51db8>]}\n",
      "15 {15: [<Element descriptorname at 0x108b51e08>]}\n",
      "16 {16: [<Element descriptorname at 0x108b51e58>]}\n"
     ]
    }
   ],
   "source": [
    "for r, rt in enumerate(newerList):\n",
    "#     rCon = rt.text_content\n",
    "    print(r,rt)\n",
    "#     print(rCon)\n"
   ]
  },
  {
   "cell_type": "code",
   "execution_count": null,
   "metadata": {},
   "outputs": [],
   "source": [
    "print(b)\n",
    "b[0].text_content()"
   ]
  },
  {
   "cell_type": "code",
   "execution_count": 82,
   "metadata": {},
   "outputs": [
    {
     "data": {
      "text/plain": [
       "[<Element descriptorname at 0x108b60228>]"
      ]
     },
     "execution_count": 82,
     "metadata": {},
     "output_type": "execute_result"
    }
   ],
   "source": [
    "[elem for elem in newList[0]]"
   ]
  },
  {
   "cell_type": "code",
   "execution_count": 56,
   "metadata": {},
   "outputs": [],
   "source": [
    "\n",
    "    mDict = {}\n",
    "    mDict[]\n",
    "    mPath = '//meshheadinglist/' + m[1]\n",
    "    msList = article.xpath(mPath)\n",
    "#     print(m[0],m[1])\n",
    "    msDict = {}\n",
    "    dictInd = str(m[0])\n",
    "#     print(type(dictInd))\n",
    "    msDict[dictInd] = m[1]\n",
    "    msList.append(msDict)\n",
    "    \n",
    "#     for ms in msList.iterchildren():\n",
    "#         print(ms)\n",
    "    "
   ]
  },
  {
   "cell_type": "code",
   "execution_count": 57,
   "metadata": {},
   "outputs": [
    {
     "data": {
      "text/plain": [
       "[<Element meshheading at 0x108b0adb8>,\n",
       " <Element meshheading at 0x108b48458>,\n",
       " <Element meshheading at 0x108b48688>,\n",
       " <Element meshheading at 0x108b48728>,\n",
       " <Element meshheading at 0x108b48a98>,\n",
       " <Element meshheading at 0x108b48e08>,\n",
       " <Element meshheading at 0x108b48f48>,\n",
       " <Element meshheading at 0x108b48f98>,\n",
       " <Element meshheading at 0x108b484a8>,\n",
       " <Element meshheading at 0x108b48c78>,\n",
       " <Element meshheading at 0x108b48d18>,\n",
       " <Element meshheading at 0x108b48778>,\n",
       " <Element meshheading at 0x108b48818>,\n",
       " <Element meshheading at 0x108b48868>,\n",
       " <Element meshheading at 0x108b485e8>,\n",
       " <Element meshheading at 0x108b48598>,\n",
       " <Element meshheading at 0x108b48638>,\n",
       " {'16': 'meshheading'}]"
      ]
     },
     "execution_count": 57,
     "metadata": {},
     "output_type": "execute_result"
    }
   ],
   "source": [
    "msList"
   ]
  },
  {
   "cell_type": "code",
   "execution_count": 33,
   "metadata": {},
   "outputs": [],
   "source": [
    "a = msList[0].iterchildren()"
   ]
  },
  {
   "cell_type": "code",
   "execution_count": 34,
   "metadata": {},
   "outputs": [
    {
     "data": {
      "text/plain": [
       "['descriptorname']"
      ]
     },
     "execution_count": 34,
     "metadata": {},
     "output_type": "execute_result"
    }
   ],
   "source": [
    "[elem.tag for elem in a]"
   ]
  },
  {
   "cell_type": "code",
   "execution_count": 9,
   "metadata": {
    "collapsed": true
   },
   "outputs": [],
   "source": [
    "##Journal Data -- from article section -- ERIC HELP ME REWRITE THIS -- too much nesting\n",
    "article = xml.xpath(\"//pubmedarticle\")[0]\n",
    "articleDictList = []\n",
    "journalParentTags = [elem.tag for elem in article.xpath('//article/journal/*')]\n",
    "journalDict = dict.fromkeys(journalParentTags,None)\n",
    "for jTag in journalParentTags:\n",
    "    jPath = '//article/journal/'+jTag \n",
    "    newTagList = [elem.tag for elem in article.xpath(jPath + '/*')]\n",
    "    if not newTagList:\n",
    "        journalDict[jTag] = [elem.text_content() for elem in article.xpath(jPath)][0]\n",
    "    if newTagList:\n",
    "        nDict = dict.fromkeys(newTagList,None)\n",
    "        journalDict[jTag] = nDict\n",
    "        for nt in newTagList:\n",
    "            nPath = '//article/journal/'+jTag + '/' + nt\n",
    "            ntVal = [elem for elem in article.xpath(nPath)]\n",
    "            #check if there is further nesting\n",
    "            nestPath = nPath + \"/*\"\n",
    "            if len(article.xpath(nestPath)) <= 1:\n",
    "                nDict[nt] = article.xpath(nPath)[0].text_content()\n",
    "            if len(article.xpath(nestPath)) > 1:\n",
    "                vals = [elem.text_content() for elem in article.xpath(nestPath)]\n",
    "                valTags = [elem.tag for elem in article.xpath(nestPath)]\n",
    "                nDict[nt] = dict.fromkeys(valTags,vals)"
   ]
  },
  {
   "cell_type": "code",
   "execution_count": 11,
   "metadata": {},
   "outputs": [
    {
     "data": {
      "text/plain": [
       "{'isoabbreviation': 'MMWR Morb. Mortal. Wkly. Rep.',\n",
       " 'issn': '1545-861X',\n",
       " 'journalissue': {'issue': '43',\n",
       "  'pubdate': {'day': ['2017', 'Nov', '03'],\n",
       "   'month': ['2017', 'Nov', '03'],\n",
       "   'year': ['2017', 'Nov', '03']},\n",
       "  'volume': '66'},\n",
       " 'title': 'MMWR. Morbidity and mortality weekly report'}"
      ]
     },
     "execution_count": 11,
     "metadata": {},
     "output_type": "execute_result"
    }
   ],
   "source": [
    "journalDict"
   ]
  },
  {
   "cell_type": "code",
   "execution_count": 12,
   "metadata": {},
   "outputs": [
    {
     "data": {
      "text/plain": [
       "'<pubmedarticleset> <pubmedarticle>     <medlinecitation status=\"MEDLINE\" owner=\"NLM\">         <pmid version=\"1\">29095808</pmid>         <datecreated>             <year>2017</year>             <month>11</month>             <day>02</day>         </datecreated>         <datecompleted>             <year>2017</year>             <month>11</month>             <day>08</day>         </datecompleted>         <daterevised>             <year>2017</year>             <month>11</month>             <day>08</day>         </daterevised>         <article pubmodel=\"Electronic\">             <journal>                 <issn issntype=\"Electronic\">1545-861X</issn>                 <journalissue citedmedium=\"Internet\">                     <volume>66</volume>                     <issue>43</issue>                     <pubdate>                         <year>2017</year>                         <month>Nov</month>                         <day>03</day>                     </pubdate>                 </journalissue>                 <title>MMWR. Morbidity and mortality weekly report</title>                 <isoabbreviation>MMWR Morb. Mortal. Wkly. Rep.</isoabbreviation>             </journal>             <articletitle>Harmful Algal Bloom-Associated Illnesses in Humans and Dogs Identified Through a Pilot Surveillance System - New York, 2015.</articletitle>             <pagination>                 <medlinepgn>1182-1184</medlinepgn>             </pagination>             <elocationid eidtype=\"doi\" validyn=\"Y\">10.15585/mmwr.mm6643a5</elocationid>             <abstract>                 <abstracttext>Cyanobacteria, also known as blue-green algae, are photosynthetic, aquatic organisms found in fresh, brackish, and marine water around the world (1). Rapid proliferation and accumulation of potentially toxin-producing cyanobacteria characterize one type of harmful algal bloom (HAB). HABs have the potential to cause illness in humans and animals (2,3); however, the epidemiology of these illnesses has not been well characterized. Statewide in 2015, a total of 139 HABs were identified in New York, 97 (70%) of which were confirmed through laboratory analysis; 77 independent beach closures were ordered at 37 beaches on 20 different bodies of water. To better characterize HAB-associated illnesses, during June-September 2015, the New York State Department of Health (NYSDOH) implemented a pilot surveillance system in 16 New York counties. Activities included the collection of data from environmental HAB reports, illness reports, poison control centers, and syndromic surveillance, and increased outreach to the public, health care providers, and veterinarians. During June-September, 51 HAB-associated illnesses were reported, including 35 that met the CDC case definitions*; 32 of the cases occurred in humans and three in dogs. In previous years, New York never had more than 10 HAB-associated illnesses reported statewide. The pilot surveillance results from 16 counties during a 4-month period suggest that HAB-associated illnesses might be more common than previously reported.</abstracttext>             </abstract>             <authorlist completeyn=\"Y\">                 <author validyn=\"Y\">                     <lastname>Figgatt</lastname>                     <forename>Mary</forename>                     <initials>M</initials>                 </author>                 <author validyn=\"Y\">                     <lastname>Hyde</lastname>                     <forename>James</forename>                     <initials>J</initials>                 </author>                 <author validyn=\"Y\">                     <lastname>Dziewulski</lastname>                     <forename>David</forename>                     <initials>D</initials>                 </author>                 <author validyn=\"Y\">                     <lastname>Wiegert</lastname>                     <forename>Eric</forename>                     <initials>E</initials>                 </author>                 <author validyn=\"Y\">                     <lastname>Kishbaugh</lastname>                     <forename>Scott</forename>                     <initials>S</initials>                 </author>                 <author validyn=\"Y\">                     <lastname>Zelin</lastname>                     <forename>Grant</forename>                     <initials>G</initials>                 </author>                 <author validyn=\"Y\">                     <lastname>Wilson</lastname>                     <forename>Lloyd</forename>                     <initials>L</initials>                 </author>             </authorlist>             <language>eng</language>             <publicationtypelist>                 <publicationtype ui=\"D016428\">Journal Article</publicationtype>             </publicationtypelist>             <articledate datetype=\"Electronic\">                 <year>2017</year>                 <month>11</month>                 <day>03</day>             </articledate>         </article>         <medlinejournalinfo>             <country>United States</country>             <medlineta>MMWR Morb Mortal Wkly Rep</medlineta>             <nlmuniqueid>7802429</nlmuniqueid>             <issnlinking>0149-2195</issnlinking>         </medlinejournalinfo>         <citationsubset>IM</citationsubset>         <meshheadinglist>             <meshheading>                 <descriptorname ui=\"D000293\" majortopicyn=\"N\">Adolescent</descriptorname>             </meshheading>             <meshheading>                 <descriptorname ui=\"D000328\" majortopicyn=\"N\">Adult</descriptorname>             </meshheading>             <meshheading>                 <descriptorname ui=\"D000818\" majortopicyn=\"N\">Animals</descriptorname>             </meshheading>             <meshheading>                 <descriptorname ui=\"D002648\" majortopicyn=\"N\">Child</descriptorname>             </meshheading>             <meshheading>                 <descriptorname ui=\"D002675\" majortopicyn=\"N\">Child, Preschool</descriptorname>             </meshheading>             <meshheading>                 <descriptorname ui=\"D004194\" majortopicyn=\"N\">Disease</descriptorname>                 <qualifiername ui=\"Q000209\" majortopicyn=\"Y\">etiology</qualifiername>             </meshheading>             <meshheading>                 <descriptorname ui=\"D004283\" majortopicyn=\"N\">Dog Diseases</descriptorname>                 <qualifiername ui=\"Q000453\" majortopicyn=\"N\">epidemiology</qualifiername>                 <qualifiername ui=\"Q000209\" majortopicyn=\"Y\">etiology</qualifiername>             </meshheading>             <meshheading>                 <descriptorname ui=\"D004285\" majortopicyn=\"N\">Dogs</descriptorname>             </meshheading>             <meshheading>                 <descriptorname ui=\"D005260\" majortopicyn=\"N\">Female</descriptorname>             </meshheading>             <meshheading>                 <descriptorname ui=\"D057097\" majortopicyn=\"Y\">Harmful Algal Bloom</descriptorname>             </meshheading>             <meshheading>                 <descriptorname ui=\"D006801\" majortopicyn=\"N\">Humans</descriptorname>             </meshheading>             <meshheading>                 <descriptorname ui=\"D008297\" majortopicyn=\"N\">Male</descriptorname>             </meshheading>             <meshheading>                 <descriptorname ui=\"D008875\" majortopicyn=\"N\">Middle Aged</descriptorname>             </meshheading>             <meshheading>                 <descriptorname ui=\"D009518\" majortopicyn=\"N\">New York</descriptorname>                 <qualifiername ui=\"Q000453\" majortopicyn=\"N\">epidemiology</qualifiername>             </meshheading>             <meshheading>                 <descriptorname ui=\"D010865\" majortopicyn=\"N\">Pilot Projects</descriptorname>             </meshheading>             <meshheading>                 <descriptorname ui=\"D011159\" majortopicyn=\"Y\">Population Surveillance</descriptorname>             </meshheading>             <meshheading>                 <descriptorname ui=\"D055815\" majortopicyn=\"N\">Young Adult</descriptorname>             </meshheading>         </meshheadinglist>     </medlinecitation>     <pubmeddata>         <history>             <pubmedpubdate pubstatus=\"entrez\">                 <year>2017</year>                 <month>11</month>                 <day>3</day>                 <hour>6</hour>                 <minute>0</minute>             </pubmedpubdate>             <pubmedpubdate pubstatus=\"pubmed\">                 <year>2017</year>                 <month>11</month>                 <day>3</day>                 <hour>6</hour>                 <minute>0</minute>             </pubmedpubdate>             <pubmedpubdate pubstatus=\"medline\">                 <year>2017</year>                 <month>11</month>                 <day>9</day>                 <hour>6</hour>                 <minute>0</minute>             </pubmedpubdate>         </history>         <publicationstatus>epublish</publicationstatus>         <articleidlist>             <articleid idtype=\"pubmed\">29095808</articleid>             <articleid idtype=\"doi\">10.15585/mmwr.mm6643a5</articleid>         </articleidlist>     </pubmeddata> </pubmedarticle>  </pubmedarticleset>'"
      ]
     },
     "execution_count": 12,
     "metadata": {},
     "output_type": "execute_result"
    }
   ],
   "source": [
    "doc"
   ]
  },
  {
   "cell_type": "code",
   "execution_count": null,
   "metadata": {
    "collapsed": true
   },
   "outputs": [],
   "source": []
  }
 ],
 "metadata": {
  "kernelspec": {
   "display_name": "Python 3",
   "language": "python",
   "name": "python3"
  },
  "language_info": {
   "codemirror_mode": {
    "name": "ipython",
    "version": 3
   },
   "file_extension": ".py",
   "mimetype": "text/x-python",
   "name": "python",
   "nbconvert_exporter": "python",
   "pygments_lexer": "ipython3",
   "version": "3.6.3"
  }
 },
 "nbformat": 4,
 "nbformat_minor": 2
}
