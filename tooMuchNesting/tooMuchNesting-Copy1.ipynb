{
 "cells": [
  {
   "cell_type": "code",
   "execution_count": 1,
   "metadata": {},
   "outputs": [],
   "source": [
    "import pandas as pd\n",
    "import numpy as np\n",
    "from pandas import DataFrame\n",
    "import types\n",
    "import lxml.html"
   ]
  },
  {
   "cell_type": "code",
   "execution_count": 2,
   "metadata": {},
   "outputs": [],
   "source": [
    "doc =  open('myxmlfile.xml').read()"
   ]
  },
  {
   "cell_type": "code",
   "execution_count": 3,
   "metadata": {},
   "outputs": [],
   "source": [
    "xml = lxml.html.fromstring(doc)"
   ]
  },
  {
   "cell_type": "code",
   "execution_count": 4,
   "metadata": {},
   "outputs": [],
   "source": [
    "article = xml.xpath(\"//pubmedarticle\")[0]"
   ]
  },
  {
   "cell_type": "code",
   "execution_count": 115,
   "metadata": {},
   "outputs": [],
   "source": [
    "mesh_list = [elem.tag for elem in article.xpath('//meshheadinglist/*')]"
   ]
  },
  {
   "cell_type": "code",
   "execution_count": 117,
   "metadata": {},
   "outputs": [],
   "source": [
    "msList = []\n",
    "for m in range(len(mesh_list)):\n",
    "    newDict = {}    \n",
    "    newDict[m] =  \"meshheading\"\n",
    "    msList.append(newDict)\n",
    "    msQList = article.xpath('//meshheadinglist/meshheading')  "
   ]
  },
  {
   "cell_type": "code",
   "execution_count": 166,
   "metadata": {},
   "outputs": [
    {
     "data": {
      "text/plain": [
       "[{'descriptorname': ['Adolescent']},\n",
       " {'descriptorname': ['Adult']},\n",
       " {'descriptorname': ['Animals']},\n",
       " {'descriptorname': ['Child']},\n",
       " {'descriptorname': ['Child, Preschool']},\n",
       " {'descriptorname': ['Disease'], 'qualifiername': ['etiology']},\n",
       " {'descriptorname': ['Dog Diseases'],\n",
       "  'qualifiername': ['epidemiology', 'etiology']},\n",
       " {'descriptorname': ['Dogs']},\n",
       " {'descriptorname': ['Female']},\n",
       " {'descriptorname': ['Harmful Algal Bloom']},\n",
       " {'descriptorname': ['Humans']},\n",
       " {'descriptorname': ['Male']},\n",
       " {'descriptorname': ['Middle Aged']},\n",
       " {'descriptorname': ['New York'], 'qualifiername': ['epidemiology']},\n",
       " {'descriptorname': ['Pilot Projects']},\n",
       " {'descriptorname': ['Population Surveillance']},\n",
       " {'descriptorname': ['Young Adult']}]"
      ]
     },
     "execution_count": 166,
     "metadata": {},
     "output_type": "execute_result"
    }
   ],
   "source": [
    "newerList = []\n",
    "newList = [elem.iterchildren() for elem in msQList]\n",
    "for n,nt in enumerate(newList):\n",
    "    b = [elem for elem in nt]   \n",
    "    tag_names = [elem.tag for elem in b]\n",
    "    unique_tag_names = list(set(tag_names))\n",
    "    newDict = {tag:[] for tag in unique_tag_names}\n",
    "#     newDict = {'descriptorname':[],'qualifiername':[]}\n",
    "    for elem in b:\n",
    "        newDict[elem.tag].append(elem.text_content())\n",
    "    newerList.append(newDict)\n",
    "newerList"
   ]
  },
  {
   "cell_type": "code",
   "execution_count": null,
   "metadata": {
    "collapsed": true
   },
   "outputs": [],
   "source": []
  }
 ],
 "metadata": {
  "kernelspec": {
   "display_name": "Python 3",
   "language": "python",
   "name": "python3"
  },
  "language_info": {
   "codemirror_mode": {
    "name": "ipython",
    "version": 3
   },
   "file_extension": ".py",
   "mimetype": "text/x-python",
   "name": "python",
   "nbconvert_exporter": "python",
   "pygments_lexer": "ipython3",
   "version": "3.6.3"
  }
 },
 "nbformat": 4,
 "nbformat_minor": 2
}
