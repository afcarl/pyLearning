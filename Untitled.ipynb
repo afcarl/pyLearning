{
 "cells": [
  {
   "cell_type": "code",
   "execution_count": null,
   "metadata": {
    "collapsed": true
   },
   "outputs": [],
   "source": [
    "import pandas as pd"
   ]
  },
  {
   "cell_type": "code",
   "execution_count": null,
   "metadata": {
    "collapsed": true
   },
   "outputs": [],
   "source": [
    "def tsv_to_df(filename: str, column_lookup: dict):\n",
    "    with open(filename, \"r\") as f:\n",
    "        tsv_contents = f.read() \n",
    "    tsv_contents = tsv_contents.split(\"\\n\")\n",
    "    reformatted_tsv_contents = [line.split() for line in tsv_contents]\n",
    "    base_name = filename.split(\".\")[0]\n",
    "    csv_filename = base_name + \".csv\"\n",
    "    column_names = column_lookup[base_name]\n",
    "    return pd.DataFrame(reformatted_tsv_contents, columns=column_names)"
   ]
  }
 ],
 "metadata": {
  "anaconda-cloud": {},
  "kernelspec": {
   "display_name": "Python [default]",
   "language": "python",
   "name": "python3"
  },
  "language_info": {
   "codemirror_mode": {
    "name": "ipython",
    "version": 3
   },
   "file_extension": ".py",
   "mimetype": "text/x-python",
   "name": "python",
   "nbconvert_exporter": "python",
   "pygments_lexer": "ipython3",
   "version": "3.5.2"
  }
 },
 "nbformat": 4,
 "nbformat_minor": 1
}
